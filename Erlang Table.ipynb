{
 "cells": [
  {
   "cell_type": "markdown",
   "id": "a90da741",
   "metadata": {},
   "source": [
    "## Дана таблица с звонками на горячую линию. Необходимо рассчитать сколько необходимо операторов на линии каждые полчаса, чтобы 80% звонков были приняты в первые 30 секунд. Используется калькулятор Erlang"
   ]
  },
  {
   "cell_type": "code",
   "execution_count": 1,
   "id": "e9f5f0a0",
   "metadata": {},
   "outputs": [],
   "source": [
    "from math import factorial, ceil, exp\n",
    "import pandas as pd\n",
    "import numpy as np\n",
    "import datetime as dt"
   ]
  },
  {
   "cell_type": "code",
   "execution_count": 2,
   "id": "e995c5e7",
   "metadata": {},
   "outputs": [],
   "source": [
    "def ErlangC(A, N):\n",
    "    if (N-A<=0): \n",
    "        return 1 \n",
    "    L = (A**N / factorial(N)) * (N / (N - A))\n",
    "    sum_ = 0\n",
    "    for i in range(N):\n",
    "        sum_ += (A**i) / factorial(i)\n",
    "    return (L / (sum_ + L))\n"
   ]
  },
  {
   "cell_type": "code",
   "execution_count": 3,
   "id": "2d7e5b0d",
   "metadata": {},
   "outputs": [],
   "source": [
    "data = pd.read_excel(\"C:/Users/HP/Downloads/95043f7f9fbffe1b00e9469ff2413732.xlsx\", parse_dates=[\"A_CallDTBegin\"])"
   ]
  },
  {
   "cell_type": "code",
   "execution_count": 4,
   "id": "9d2851f9",
   "metadata": {},
   "outputs": [],
   "source": [
    "data[\"time_period\"] = pd.to_datetime(data.A_CallDTBegin.dt.hour.astype(str) + \":\" + data.A_CallDTBegin.dt.minute.apply(lambda x: \"30\" if x>29 else \"00\")).dt.strftime(\"%H:%M\")"
   ]
  },
  {
   "cell_type": "code",
   "execution_count": 5,
   "id": "4173e816",
   "metadata": {},
   "outputs": [],
   "source": [
    "countable_calls = data[data[\"Общая Длительность звонка в секундах с момента попадания в IVR\"] > 26]\n"
   ]
  },
  {
   "cell_type": "code",
   "execution_count": 6,
   "id": "b1257cd2",
   "metadata": {},
   "outputs": [],
   "source": [
    "erl_table = countable_calls.groupby(\"time_period\", as_index=False).agg({\"ID\" : \"count\"}).rename(columns={\"ID\" : \"calls\"})"
   ]
  },
  {
   "cell_type": "code",
   "execution_count": 7,
   "id": "2e6fd2a6",
   "metadata": {},
   "outputs": [
    {
     "data": {
      "text/plain": [
       "172.9686526479751"
      ]
     },
     "execution_count": 7,
     "metadata": {},
     "output_type": "execute_result"
    }
   ],
   "source": [
    "aht = countable_calls[countable_calls[\"Длительность диалога с оператором в секундах\"] > 0][\"Длительность диалога с оператором в секундах\"].mean()\n",
    "aht"
   ]
  },
  {
   "cell_type": "code",
   "execution_count": 8,
   "id": "12bdfd6b",
   "metadata": {},
   "outputs": [],
   "source": [
    "erl_table[\"calls_per_hour\"] = erl_table.calls * 2"
   ]
  },
  {
   "cell_type": "code",
   "execution_count": 9,
   "id": "8cfeccac",
   "metadata": {},
   "outputs": [],
   "source": [
    "erl_table[\"A\"] = erl_table.calls_per_hour * aht / 3600"
   ]
  },
  {
   "cell_type": "code",
   "execution_count": 10,
   "id": "481ec60c",
   "metadata": {},
   "outputs": [
    {
     "data": {
      "text/html": [
       "<div>\n",
       "<style scoped>\n",
       "    .dataframe tbody tr th:only-of-type {\n",
       "        vertical-align: middle;\n",
       "    }\n",
       "\n",
       "    .dataframe tbody tr th {\n",
       "        vertical-align: top;\n",
       "    }\n",
       "\n",
       "    .dataframe thead th {\n",
       "        text-align: right;\n",
       "    }\n",
       "</style>\n",
       "<table border=\"1\" class=\"dataframe\">\n",
       "  <thead>\n",
       "    <tr style=\"text-align: right;\">\n",
       "      <th></th>\n",
       "      <th>time_period</th>\n",
       "      <th>calls</th>\n",
       "      <th>calls_per_hour</th>\n",
       "      <th>A</th>\n",
       "    </tr>\n",
       "  </thead>\n",
       "  <tbody>\n",
       "    <tr>\n",
       "      <th>0</th>\n",
       "      <td>00:00</td>\n",
       "      <td>20</td>\n",
       "      <td>40</td>\n",
       "      <td>1.921874</td>\n",
       "    </tr>\n",
       "    <tr>\n",
       "      <th>1</th>\n",
       "      <td>00:30</td>\n",
       "      <td>6</td>\n",
       "      <td>12</td>\n",
       "      <td>0.576562</td>\n",
       "    </tr>\n",
       "    <tr>\n",
       "      <th>2</th>\n",
       "      <td>01:00</td>\n",
       "      <td>14</td>\n",
       "      <td>28</td>\n",
       "      <td>1.345312</td>\n",
       "    </tr>\n",
       "    <tr>\n",
       "      <th>3</th>\n",
       "      <td>01:30</td>\n",
       "      <td>12</td>\n",
       "      <td>24</td>\n",
       "      <td>1.153124</td>\n",
       "    </tr>\n",
       "    <tr>\n",
       "      <th>4</th>\n",
       "      <td>02:00</td>\n",
       "      <td>12</td>\n",
       "      <td>24</td>\n",
       "      <td>1.153124</td>\n",
       "    </tr>\n",
       "  </tbody>\n",
       "</table>\n",
       "</div>"
      ],
      "text/plain": [
       "  time_period  calls  calls_per_hour         A\n",
       "0       00:00     20              40  1.921874\n",
       "1       00:30      6              12  0.576562\n",
       "2       01:00     14              28  1.345312\n",
       "3       01:30     12              24  1.153124\n",
       "4       02:00     12              24  1.153124"
      ]
     },
     "execution_count": 10,
     "metadata": {},
     "output_type": "execute_result"
    }
   ],
   "source": [
    "erl_table.head()"
   ]
  },
  {
   "cell_type": "code",
   "execution_count": 11,
   "id": "1e70ee5b",
   "metadata": {},
   "outputs": [],
   "source": [
    "def calc_sl(A, aht, tt, perc):\n",
    "    for staff in range(ceil(A), 1000):\n",
    "        P = ErlangC(A, staff)\n",
    "        sl = (1 - (P * exp(-((staff - A) * (tt / aht))))) * 100\n",
    "        if sl >= perc: # percent of calls to be in tagreted waiting time\n",
    "            return staff\n",
    "    "
   ]
  },
  {
   "cell_type": "code",
   "execution_count": 12,
   "id": "88160485",
   "metadata": {},
   "outputs": [],
   "source": [
    "list1 =[]\n",
    "for i in range(erl_table.shape[0]):\n",
    "    list1.append(calc_sl(erl_table[\"A\"][i], aht, 30, 80))\n"
   ]
  },
  {
   "cell_type": "code",
   "execution_count": 13,
   "id": "185ad441",
   "metadata": {},
   "outputs": [],
   "source": [
    "erl_table[\"staff\"] = list1"
   ]
  },
  {
   "cell_type": "code",
   "execution_count": 14,
   "id": "87a2386c",
   "metadata": {},
   "outputs": [
    {
     "data": {
      "text/html": [
       "<div>\n",
       "<style scoped>\n",
       "    .dataframe tbody tr th:only-of-type {\n",
       "        vertical-align: middle;\n",
       "    }\n",
       "\n",
       "    .dataframe tbody tr th {\n",
       "        vertical-align: top;\n",
       "    }\n",
       "\n",
       "    .dataframe thead th {\n",
       "        text-align: right;\n",
       "    }\n",
       "</style>\n",
       "<table border=\"1\" class=\"dataframe\">\n",
       "  <thead>\n",
       "    <tr style=\"text-align: right;\">\n",
       "      <th></th>\n",
       "      <th>time_period</th>\n",
       "      <th>calls</th>\n",
       "      <th>calls_per_hour</th>\n",
       "      <th>A</th>\n",
       "      <th>staff</th>\n",
       "    </tr>\n",
       "  </thead>\n",
       "  <tbody>\n",
       "    <tr>\n",
       "      <th>0</th>\n",
       "      <td>00:00</td>\n",
       "      <td>20</td>\n",
       "      <td>40</td>\n",
       "      <td>1.921874</td>\n",
       "      <td>4</td>\n",
       "    </tr>\n",
       "    <tr>\n",
       "      <th>1</th>\n",
       "      <td>00:30</td>\n",
       "      <td>6</td>\n",
       "      <td>12</td>\n",
       "      <td>0.576562</td>\n",
       "      <td>2</td>\n",
       "    </tr>\n",
       "    <tr>\n",
       "      <th>2</th>\n",
       "      <td>01:00</td>\n",
       "      <td>14</td>\n",
       "      <td>28</td>\n",
       "      <td>1.345312</td>\n",
       "      <td>3</td>\n",
       "    </tr>\n",
       "    <tr>\n",
       "      <th>3</th>\n",
       "      <td>01:30</td>\n",
       "      <td>12</td>\n",
       "      <td>24</td>\n",
       "      <td>1.153124</td>\n",
       "      <td>3</td>\n",
       "    </tr>\n",
       "    <tr>\n",
       "      <th>4</th>\n",
       "      <td>02:00</td>\n",
       "      <td>12</td>\n",
       "      <td>24</td>\n",
       "      <td>1.153124</td>\n",
       "      <td>3</td>\n",
       "    </tr>\n",
       "  </tbody>\n",
       "</table>\n",
       "</div>"
      ],
      "text/plain": [
       "  time_period  calls  calls_per_hour         A  staff\n",
       "0       00:00     20              40  1.921874      4\n",
       "1       00:30      6              12  0.576562      2\n",
       "2       01:00     14              28  1.345312      3\n",
       "3       01:30     12              24  1.153124      3\n",
       "4       02:00     12              24  1.153124      3"
      ]
     },
     "execution_count": 14,
     "metadata": {},
     "output_type": "execute_result"
    }
   ],
   "source": [
    "erl_table.head()"
   ]
  },
  {
   "cell_type": "code",
   "execution_count": 162,
   "id": "992e8860",
   "metadata": {},
   "outputs": [],
   "source": [
    "erl_table.to_excel(\"C:/Users/HP/Downloads/Erlang.xlsx\")"
   ]
  }
 ],
 "metadata": {
  "kernelspec": {
   "display_name": "Python 3",
   "language": "python",
   "name": "python3"
  },
  "language_info": {
   "codemirror_mode": {
    "name": "ipython",
    "version": 3
   },
   "file_extension": ".py",
   "mimetype": "text/x-python",
   "name": "python",
   "nbconvert_exporter": "python",
   "pygments_lexer": "ipython3",
   "version": "3.8.8"
  }
 },
 "nbformat": 4,
 "nbformat_minor": 5
}
